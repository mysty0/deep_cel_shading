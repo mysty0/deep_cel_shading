{
 "cells": [
  {
   "cell_type": "code",
   "execution_count": 1,
   "id": "c4683638",
   "metadata": {},
   "outputs": [
    {
     "name": "stderr",
     "output_type": "stream",
     "text": [
      "D:\\deep_cel_shading\\venv\\lib\\site-packages\\tqdm\\auto.py:22: TqdmWarning: IProgress not found. Please update jupyter and ipywidgets. See https://ipywidgets.readthedocs.io/en/stable/user_install.html\n",
      "  from .autonotebook import tqdm as notebook_tqdm\n"
     ]
    },
    {
     "data": {
      "text/plain": [
       "True"
      ]
     },
     "execution_count": 1,
     "metadata": {},
     "output_type": "execute_result"
    }
   ],
   "source": [
    "import torch\n",
    "from PIL import Image\n",
    "import torchvision.transforms as transforms\n",
    "import numpy as np\n",
    "from torch import nn\n",
    "\n",
    "torch.cuda.is_available()"
   ]
  },
  {
   "cell_type": "code",
   "execution_count": 2,
   "id": "37dd6f0e",
   "metadata": {},
   "outputs": [],
   "source": [
    "from typing import Tuple, Optional\n",
    "\n",
    "import torch\n",
    "from math import exp\n",
    "import torch.nn.functional as F\n",
    "from torch.autograd import Variable\n",
    "\n",
    "\n",
    "\n",
    "\n",
    "def _psnr_compute(\n",
    "    sum_squared_error: torch.Tensor,\n",
    "    n_obs: int,\n",
    "    data_range: float,\n",
    "    base: float = 10.0,\n",
    "    reduction: str = 'elementwise_mean',\n",
    ") -> torch.Tensor:\n",
    "    psnr_base_e = 2 * torch.log(data_range) - torch.log(sum_squared_error / n_obs)\n",
    "    psnr = psnr_base_e * (10 / torch.log(torch.tensor(base)))\n",
    "    return psnr\n",
    "\n",
    "\n",
    "def _psnr_update(preds: torch.Tensor, target: torch.Tensor) -> Tuple[torch.Tensor, int]:\n",
    "    sum_squared_error = torch.sum(torch.pow(preds - target, 2))\n",
    "    n_obs = target.numel()\n",
    "    return sum_squared_error, n_obs\n",
    "\n",
    "\n",
    "def psnr(\n",
    "    preds: torch.Tensor,\n",
    "    target: torch.Tensor,\n",
    "    data_range: Optional[float] = None,\n",
    "    base: float = 10.0,\n",
    "    reduction: str = 'elementwise_mean',\n",
    ") -> torch.Tensor:\n",
    "    \"\"\"\n",
    "    Computes the peak signal-to-noise ratio\n",
    "\n",
    "    Args:\n",
    "        preds: estimated signal\n",
    "        target: groun truth signal\n",
    "        data_range: the range of the data. If None, it is determined from the data (max - min)\n",
    "        base: a base of a logarithm to use (default: 10)\n",
    "        reduction: a method to reduce metric score over labels.\n",
    "\n",
    "            - ``'elementwise_mean'``: takes the mean (default)\n",
    "            - ``'sum'``: takes the sum\n",
    "            - ``'none'``: no reduction will be applied\n",
    "        return_state: returns a internal state that can be ddp reduced\n",
    "            before doing the final calculation\n",
    "\n",
    "    Return:\n",
    "        Tensor with PSNR score\n",
    "\n",
    "    Example:\n",
    "\n",
    "        >>> pred = torch.tensor([[0.0, 1.0], [2.0, 3.0]])\n",
    "        >>> target = torch.tensor([[3.0, 2.0], [1.0, 0.0]])\n",
    "        >>> psnr(pred, target)\n",
    "        tensor(2.5527)\n",
    "\n",
    "    \"\"\"\n",
    "    if data_range is None:\n",
    "        data_range = target.max() - target.min()\n",
    "    else:\n",
    "        data_range = torch.tensor(float(data_range))\n",
    "    sum_squared_error, n_obs = _psnr_update(preds, target)\n",
    "    return _psnr_compute(sum_squared_error, n_obs, data_range, base, reduction)\n",
    "\n",
    "\n"
   ]
  },
  {
   "cell_type": "code",
   "execution_count": 29,
   "id": "fd599606",
   "metadata": {},
   "outputs": [
    {
     "name": "stdout",
     "output_type": "stream",
     "text": [
      "['res_compare\\\\Default Pix2Pix', 'res_compare\\\\NST ResNet', 'res_compare\\\\NST VGG', 'res_compare\\\\Pix2Pix Perceptual Loss', 'res_compare\\\\Pix2Pix Perceptual Loss Upscaled', 'res_compare\\\\Pix2Pix Upscaled', 'res_compare\\\\SSIM', 'res_compare\\\\SSIM Upscaled', 'res_compare\\\\truth', 'res_compare\\\\_Pix2Pix Downscaled']\n"
     ]
    }
   ],
   "source": [
    "from os import listdir\n",
    "from os.path import isfile, join, isdir\n",
    "import re\n",
    "\n",
    "mypath = \"res_compare\"\n",
    "dirs = [join(mypath, f) for f in listdir(mypath) if isdir(join(mypath, f))]\n",
    "\n",
    "res = {}\n",
    "\n",
    "trans = transforms.Compose([\n",
    "    transforms.Resize([256, 256], transforms.InterpolationMode.BICUBIC), \n",
    "    transforms.ToTensor()\n",
    "])\n",
    "\n",
    "print(dirs)\n",
    "for d in dirs:\n",
    "    imgs = []\n",
    "    for f in sorted(\n",
    "        [join(d, f) for f in listdir(d) if isfile(join(d, f))], \n",
    "        key=lambda x: int(re.search(r'\\d+', x.split(\"\\\\\")[-1]).group())\n",
    "    ):\n",
    "        if \"_real\" in f:\n",
    "            continue\n",
    "        \n",
    "        #print(f.split(\"\\\\\")[-1])\n",
    "        #print(int(re.search(r'\\d', f).group()))\n",
    "        \n",
    "        img = Image.open(f).convert('RGB')\n",
    "\n",
    "        if \"truth\" in d:\n",
    "            w, h = img.size\n",
    "            w2 = int(w / 2)\n",
    "            A = img.crop((0, 0, w2, h))\n",
    "            B = img.crop((w2, 0, w, h))\n",
    "            \n",
    "            imgs.append(trans(B))\n",
    "        else:\n",
    "            imgs.append(trans(img))\n",
    "        \n",
    "    res[d.split(\"\\\\\")[1]] = imgs\n",
    "    "
   ]
  },
  {
   "cell_type": "code",
   "execution_count": 13,
   "id": "52f88ee1",
   "metadata": {},
   "outputs": [
    {
     "data": {
      "text/plain": [
       "torch.Size([3, 128, 128])"
      ]
     },
     "execution_count": 13,
     "metadata": {},
     "output_type": "execute_result"
    }
   ],
   "source": [
    "res['Pix2Pix Upscaled'][3].shape"
   ]
  },
  {
   "cell_type": "code",
   "execution_count": 138,
   "id": "031ac9e9",
   "metadata": {},
   "outputs": [],
   "source": [
    "c = 1\n",
    "for i in res['Default Pix2Pix']:\n",
    "    transforms.ToPILImage()(i).save('res_compare/_Pix2Pix Downscaled/{}.jpg'.format(c))\n",
    "    c = c + 1"
   ]
  },
  {
   "cell_type": "code",
   "execution_count": 130,
   "id": "bfb82056",
   "metadata": {},
   "outputs": [],
   "source": [
    "import os\n",
    "\n",
    "for d in dirs:\n",
    "    imgs = []\n",
    "    for f in sorted(\n",
    "        [join(d, f) for f in listdir(d) if isfile(join(d, f))], \n",
    "        key=lambda x: int(re.search(r'\\d+', x.split(\"\\\\\")[-1]).group())\n",
    "    ):\n",
    "        if \"_real\" in f:\n",
    "            os.remove(f)"
   ]
  },
  {
   "cell_type": "code",
   "execution_count": 4,
   "id": "aa285695",
   "metadata": {},
   "outputs": [],
   "source": [
    "import importlib\n",
    "\n",
    "\n",
    "class VggLoss(nn.Module):\n",
    "    def __init__(self, name):\n",
    "        super(VggLoss, self).__init__()\n",
    "        #print(\"Loading VGG19 model from path: {}\".format(model_paths[\"vgg\"]))\n",
    "\n",
    "        vgg_name = f\"torchvision.models.vgg\"\n",
    "        print(f\"vgg name {name}\")\n",
    "        lib = importlib.import_module(vgg_name)\n",
    "        for lname, cls in lib.__dict__.items():\n",
    "            if lname.lower() == name.lower():\n",
    "                vgg = cls()\n",
    "\n",
    "        state_dict = torch.load(f'./pytorch-CycleGAN-and-pix2pix/checkpoints/{name}.pth')\n",
    "        vgg.load_state_dict(state_dict)\n",
    "\n",
    "        self.vgg_model = torch.nn.Sequential(*(list(vgg.children())[:-1]))\n",
    "        #self.vgg_model.load_state_dict(torch.load(model_paths['vgg']))\n",
    "        self.vgg_model.cuda()\n",
    "        self.vgg_model.eval()\n",
    "\n",
    "        self.l1loss = torch.nn.L1Loss()\n",
    "\n",
    "    def forward(self, input_photo, output):\n",
    "        vgg_photo = self.vgg_model(input_photo)\n",
    "        vgg_output = self.vgg_model(output)\n",
    "        #n, c, h, w = vgg_photo.shape\n",
    "        # h, w, c = vgg_photo.get_shape().as_list()[1:]\n",
    "        loss = self.l1loss(vgg_photo, vgg_output)\n",
    "\n",
    "        return loss"
   ]
  },
  {
   "cell_type": "code",
   "execution_count": 30,
   "id": "c826aa4c",
   "metadata": {},
   "outputs": [
    {
     "name": "stdout",
     "output_type": "stream",
     "text": [
      "<function ssim at 0x000001BF8CC30DC0>\n",
      "vgg name vgg11\n",
      "Default Pix2Pix\n",
      "NST ResNet\n",
      "NST VGG\n",
      "Pix2Pix Perceptual Loss\n",
      "Pix2Pix Perceptual Loss Upscaled\n",
      "Pix2Pix Upscaled\n",
      "SSIM\n",
      "SSIM Upscaled\n",
      "truth\n",
      "_Pix2Pix Downscaled\n"
     ]
    }
   ],
   "source": [
    "from IPython.display import display\n",
    "import ssim\n",
    "\n",
    "target = res['truth']\n",
    "\n",
    "print(ssim.ssim)\n",
    "\n",
    "vgg_loss = VggLoss('vgg11')\n",
    "\n",
    "losses_fn = { \n",
    "    \"L1\": torch.nn.L1Loss(), \n",
    "    \"PSNR\": psnr, \n",
    "    \"SSIM\": lambda x, y: ssim.ssim(x.unsqueeze(1), y.unsqueeze(1), data_range=1.0, size_average=False, win_size=9).mean(),\n",
    "    \"VGG\": lambda x, y: vgg_loss(x.cuda(), y.cuda()).detach()\n",
    "}\n",
    "\n",
    "results = {}\n",
    "\n",
    "for d in res.keys():\n",
    "    print(d)\n",
    "    losses = {}\n",
    "\n",
    "    for l in losses_fn.keys():\n",
    "        r = []\n",
    "        loss = losses_fn[l]\n",
    "        for i, t in zip(res[d], target):\n",
    "            r.append(loss(i, t))\n",
    "            #display(transforms.ToPILImage()(t))\n",
    "            #display(transforms.ToPILImage()(i))\n",
    "            #print(\"123\")\n",
    "            \n",
    "        losses[l] = r\n",
    "    results[d] = losses\n",
    "        "
   ]
  },
  {
   "cell_type": "code",
   "execution_count": 31,
   "id": "d4803e74",
   "metadata": {},
   "outputs": [
    {
     "name": "stdout",
     "output_type": "stream",
     "text": [
      "{'L1': [tensor(0.0508), tensor(0.0582), tensor(0.0423), tensor(0.0302), tensor(0.0346), tensor(0.0356), tensor(0.0575), tensor(0.0435), tensor(0.0331), tensor(0.0504), tensor(0.0442), tensor(0.0423), tensor(0.0517), tensor(0.0582), tensor(0.0430), tensor(0.0289), tensor(0.0362), tensor(0.0277), tensor(0.0307), tensor(0.0342), tensor(0.0207), tensor(0.0238), tensor(0.0233), tensor(0.0178), tensor(0.0217), tensor(0.0284), tensor(0.0258), tensor(0.0286), tensor(0.0643)], 'PSNR': [tensor(22.7155), tensor(21.5530), tensor(24.0460), tensor(25.9662), tensor(25.3144), tensor(24.2435), tensor(22.0274), tensor(21.2349), tensor(23.1970), tensor(21.3940), tensor(23.1741), tensor(24.2597), tensor(22.5908), tensor(21.5374), tensor(23.8782), tensor(25.4831), tensor(24.7020), tensor(26.4677), tensor(26.2322), tensor(24.9030), tensor(27.9308), tensor(28.1714), tensor(28.0730), tensor(30.5387), tensor(28.5130), tensor(26.9168), tensor(27.2428), tensor(25.5141), tensor(20.8495)], 'SSIM': [tensor(0.8490), tensor(0.8371), tensor(0.8663), tensor(0.8939), tensor(0.8993), tensor(0.8559), tensor(0.8542), tensor(0.8894), tensor(0.9124), tensor(0.8667), tensor(0.8389), tensor(0.8764), tensor(0.8484), tensor(0.8367), tensor(0.8658), tensor(0.8851), tensor(0.8852), tensor(0.8813), tensor(0.9000), tensor(0.8880), tensor(0.9182), tensor(0.9127), tensor(0.9388), tensor(0.9508), tensor(0.9349), tensor(0.8963), tensor(0.9175), tensor(0.8851), tensor(0.8166)], 'VGG': [tensor(0.1264, device='cuda:0'), tensor(0.1233, device='cuda:0'), tensor(0.1071, device='cuda:0'), tensor(0.1005, device='cuda:0'), tensor(0.0949, device='cuda:0'), tensor(0.1076, device='cuda:0'), tensor(0.1174, device='cuda:0'), tensor(0.1087, device='cuda:0'), tensor(0.0887, device='cuda:0'), tensor(0.1240, device='cuda:0'), tensor(0.1257, device='cuda:0'), tensor(0.1136, device='cuda:0'), tensor(0.1262, device='cuda:0'), tensor(0.1237, device='cuda:0'), tensor(0.1070, device='cuda:0'), tensor(0.1183, device='cuda:0'), tensor(0.1088, device='cuda:0'), tensor(0.1227, device='cuda:0'), tensor(0.1060, device='cuda:0'), tensor(0.0962, device='cuda:0'), tensor(0.0996, device='cuda:0'), tensor(0.0937, device='cuda:0'), tensor(0.0795, device='cuda:0'), tensor(0.0702, device='cuda:0'), tensor(0.0891, device='cuda:0'), tensor(0.1183, device='cuda:0'), tensor(0.0958, device='cuda:0'), tensor(0.1185, device='cuda:0'), tensor(0.1336, device='cuda:0')]}\n"
     ]
    }
   ],
   "source": [
    "print(results['SSIM'])"
   ]
  },
  {
   "cell_type": "code",
   "execution_count": null,
   "id": "eabf331b",
   "metadata": {},
   "outputs": [],
   "source": []
  },
  {
   "cell_type": "code",
   "execution_count": 32,
   "id": "08faa0ad",
   "metadata": {},
   "outputs": [
    {
     "name": "stdout",
     "output_type": "stream",
     "text": [
      "{'L1': [0.028349355, 0.25333112, 0.13313696, 0.040162586, 0.040323403, 0.034089375, 0.037506193, 0.038864292], 'PSNR': [27.329699, 10.747139, 15.071328, 24.59983, 24.318298, 25.307133, 24.781725, 24.224812], 'SSIM': [0.9155061, 0.54776156, 0.6811931, 0.8829816, 0.88222337, 0.89568484, 0.88278437, 0.88297635], 'VGG': [0.061294712, 0.13878636, 0.13843045, 0.10525788, 0.095157996, 0.08275563, 0.10845987, 0.09386057]}\n"
     ]
    }
   ],
   "source": [
    "means = {}\n",
    "labels = []\n",
    "\n",
    "for r in results.keys():\n",
    "    if \"truth\" in r or \"_\" in r:\n",
    "        continue\n",
    "    \n",
    "    labels.append(r)\n",
    "    for l in results[r].keys():\n",
    "        loss = results[r][l]\n",
    "        if l not in means:\n",
    "            means[l] = []\n",
    "            \n",
    "\n",
    "        loss = torch.stack(loss).cpu()\n",
    "        #print(loss)\n",
    "        means[l].append(np.mean(np.array(loss)))\n",
    "    \n",
    "print(means)"
   ]
  },
  {
   "cell_type": "code",
   "execution_count": 33,
   "id": "51a6699c",
   "metadata": {},
   "outputs": [
    {
     "data": {
      "text/plain": [
       "<BarContainer object of 8 artists>"
      ]
     },
     "execution_count": 33,
     "metadata": {},
     "output_type": "execute_result"
    },
    {
     "data": {
      "image/png": "[encoded data removed]",
      "text/plain": [
       "<Figure size 1800x400 with 1 Axes>"
      ]
     },
     "metadata": {},
     "output_type": "display_data"
    },
    {
     "data": {
      "image/png": "[encoded data removed]",
      "text/plain": [
       "<Figure size 1800x400 with 1 Axes>"
      ]
     },
     "metadata": {},
     "output_type": "display_data"
    },
    {
     "data": {
      "image/png": "[encoded data removed]",
      "text/plain": [
       "<Figure size 1800x400 with 1 Axes>"
      ]
     },
     "metadata": {},
     "output_type": "display_data"
    },
    {
     "data": {
      "image/png": "[encoded data removed]",
      "text/plain": [
       "<Figure size 1800x400 with 1 Axes>"
      ]
     },
     "metadata": {},
     "output_type": "display_data"
    }
   ],
   "source": [
    "import matplotlib.pyplot as plt\n",
    "%matplotlib inline\n",
    "\n",
    "fig, ax = plt.subplots(figsize=(18,4))\n",
    "\n",
    "plt.style.use('ggplot')\n",
    "\n",
    "plt.ylim(0.0, 0.26)\n",
    "\n",
    "plt.bar(labels, means['L1'], color='green')\n",
    "\n",
    "fig, ax = plt.subplots(figsize=(18,4))\n",
    "plt.bar(labels, means['PSNR'], color='green')\n",
    "\n",
    "fig, ax = plt.subplots(figsize=(18,4))\n",
    "#plt.ylim(0.999, 1)\n",
    "plt.bar(labels, means['SSIM'], color='green')\n",
    "\n",
    "fig, ax = plt.subplots(figsize=(18,4))\n",
    "#plt.ylim(0.999, 1)\n",
    "plt.bar(labels, means['VGG'], color='green')"
   ]
  },
  {
   "cell_type": "code",
   "execution_count": 34,
   "id": "12cfc222",
   "metadata": {},
   "outputs": [
    {
     "data": {
      "text/plain": [
       "'[\"Default Pix2Pix\", \"NST ResNet\", \"NST VGG\", \"Pix2Pix Perceptual Loss\", \"Pix2Pix Perceptual Loss Upscaled\", \"Pix2Pix Upscaled\", \"SSIM\", \"SSIM Upscaled\", \"Default Pix2Pix\", \"NST ResNet\", \"NST VGG\", \"Pix2Pix Perceptual Loss\", \"Pix2Pix Perceptual Loss Upscaled\", \"Pix2Pix Upscaled\", \"SSIM\", \"SSIM Upscaled\"]'"
      ]
     },
     "execution_count": 34,
     "metadata": {},
     "output_type": "execute_result"
    }
   ],
   "source": [
    "import json\n",
    "\n",
    "m = {}\n",
    "\n",
    "for r in results.keys():\n",
    "    if \"truth\" in r or \"_\" in r:\n",
    "        continue\n",
    "    \n",
    "    labels.append(r)\n",
    "    for l in results[r].keys():\n",
    "        loss = results[r][l]\n",
    "        if l not in m:\n",
    "            m[l] = []\n",
    "            \n",
    "\n",
    "        loss = torch.stack(loss).cpu()\n",
    "        #print(loss)\n",
    "        m[l].append(float(np.mean(np.array(loss))))\n",
    "        \n",
    "json.dumps(labels)"
   ]
  },
  {
   "cell_type": "code",
   "execution_count": 36,
   "id": "06cd8d37",
   "metadata": {},
   "outputs": [],
   "source": [
    "d = 'test_ds'\n",
    "for f in sorted(\n",
    "    [join(d, f) for f in listdir(d) if isfile(join(d, f))], \n",
    "    key=lambda x: int(re.search(r'\\d+', x.split(\"\\\\\")[-1]).group())\n",
    "):\n",
    "    if \"_real\" in f:\n",
    "        continue\n",
    "\n",
    "    #print(f.split(\"\\\\\")[-1])\n",
    "    #print(int(re.search(r'\\d', f).group()))\n",
    "\n",
    "    img = Image.open(f).convert('RGB')\n",
    "\n",
    "\n",
    "    w, h = img.size\n",
    "    w2 = int(w / 2)\n",
    "    A = img.crop((0, 0, w2, h))\n",
    "    B = img.crop((w2, 0, w, h))\n",
    "    \n",
    "    ind = int(re.search(r'\\d+', f.split(\"\\\\\")[-1]).group())\n",
    "    \n",
    "    A.save('test_ds\\{}_in.jpg'.format(ind))\n",
    "    B.save('test_ds\\{}_out.jpg'.format(ind))"
   ]
  },
  {
   "cell_type": "code",
   "execution_count": 48,
   "id": "50680f68",
   "metadata": {},
   "outputs": [
    {
     "name": "stdout",
     "output_type": "stream",
     "text": [
      "Method & L1 & PSNR & SSIM & VGG & \\\\ \n",
      "Default Pix2Pix & 0.0382 & 24.4062 & 0.8886 & 0.0819 & \\\\ \n",
      "NST ResNet & 0.1653 & 13.1009 & 0.4627 & 0.1531 & \\\\ \n",
      "NST VGG & 0.1349 & 14.8963 & 0.6836 & 0.1439 & \\\\ \n",
      "Pix2Pix Perceptual Loss & 0.0295 & 26.0810 & 0.9028 & 0.0964 & \\\\ \n",
      "Pix2Pix Perceptual Loss Upscaled & 0.0343 & 25.0318 & 0.8891 & 0.0803 & \\\\ \n",
      "Pix2Pix Upscaled & 0.0286 & 25.3972 & 0.8938 & 0.0758 & \\\\ \n",
      "SSIM & 0.0575 & 22.0274 & 0.8542 & 0.1174 & \\\\ \n",
      "SSIM Upscaled & 0.0437 & 20.8119 & 0.8861 & 0.0995 & \\\\ \n",
      "Default Pix2Pix & 0.0252 & 23.5496 & 0.9113 & 0.0714 & \\\\ \n",
      "NST ResNet & 0.1075 & 16.1919 & 0.5150 & 0.1692 & \\\\ \n",
      "NST VGG & 0.1423 & 14.5171 & 0.6571 & 0.1569 & \\\\ \n",
      "Pix2Pix Perceptual Loss & 0.0439 & 23.9081 & 0.8751 & 0.1084 & \\\\ \n",
      "Pix2Pix Perceptual Loss Upscaled & 0.0534 & 22.4968 & 0.8436 & 0.1131 & \\\\ \n",
      "Pix2Pix Upscaled & 0.0574 & 21.5014 & 0.8681 & 0.0961 & \\\\ \n",
      "SSIM & 0.0430 & 23.8782 & 0.8658 & 0.1070 & \\\\ \n",
      "SSIM Upscaled & 0.0295 & 25.0728 & 0.8952 & 0.0852 & \\\\ \n",
      "\n"
     ]
    }
   ],
   "source": [
    "out = \"Method & \"\n",
    "\n",
    "for k in results[list(results.keys())[0]].keys():\n",
    "    if \"truth\" in k or \"_\" in k:\n",
    "        continue\n",
    "    out += k + \" & \"\n",
    "out += \"\\\\\\\\ \\n\"\n",
    "    \n",
    "c = 0\n",
    "for l in labels:\n",
    "    out += l + \" & \"\n",
    "    for v in results[l].values():\n",
    "        if \"truth\" in v or \"_\" in v:\n",
    "            continue\n",
    "        out += \"{:.4f}\".format(v[c]) + \" & \"\n",
    "    c += 1\n",
    "    out += \"\\\\\\\\ \\n\"\n",
    "\n",
    "print(out)"
   ]
  }
 ],
 "metadata": {
  "kernelspec": {
   "display_name": "deep_cel_shading",
   "language": "python",
   "name": "myenv"
  },
  "language_info": {
   "codemirror_mode": {
    "name": "ipython",
    "version": 3
   },
   "file_extension": ".py",
   "mimetype": "text/x-python",
   "name": "python",
   "nbconvert_exporter": "python",
   "pygments_lexer": "ipython3",
   "version": "3.10.2"
  }
 },
 "nbformat": 4,
 "nbformat_minor": 5
}
